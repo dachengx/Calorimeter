{
 "cells": [
  {
   "cell_type": "code",
   "execution_count": 1,
   "id": "1c2101d9-84da-4efb-b772-2f196ca8d1c0",
   "metadata": {},
   "outputs": [],
   "source": [
    "import numpy as np\n",
    "from tqdm import tqdm\n",
    "import uproot\n",
    "from pandas import DataFrame"
   ]
  },
  {
   "cell_type": "code",
   "execution_count": 2,
   "id": "69122450-3595-49c9-ab32-ff8159cad75b",
   "metadata": {},
   "outputs": [],
   "source": [
    "tree_ori = 'Energy'\n",
    "file_ori = '/home/xudc/Calorimeter/build/B4.root'"
   ]
  },
  {
   "cell_type": "code",
   "execution_count": 3,
   "id": "b5b7d43d-8811-47cb-9f04-24260b188317",
   "metadata": {},
   "outputs": [],
   "source": [
    "file = uproot.open(file_ori + ':' +tree_ori)"
   ]
  },
  {
   "cell_type": "code",
   "execution_count": 4,
   "id": "f0facf3f-4b1c-4e38-98ae-a11e47cb04cc",
   "metadata": {},
   "outputs": [
    {
     "name": "stderr",
     "output_type": "stream",
     "text": [
      "100%|██████████| 6700/6700 [00:53<00:00, 125.57it/s]\n"
     ]
    }
   ],
   "source": [
    "energy = np.vstack([file[e].array(library='np') for e in tqdm(file.keys())])"
   ]
  }
 ],
 "metadata": {
  "kernelspec": {
   "display_name": "Python 3",
   "language": "python",
   "name": "python3"
  },
  "language_info": {
   "codemirror_mode": {
    "name": "ipython",
    "version": 3
   },
   "file_extension": ".py",
   "mimetype": "text/x-python",
   "name": "python",
   "nbconvert_exporter": "python",
   "pygments_lexer": "ipython3",
   "version": "3.9.5"
  }
 },
 "nbformat": 4,
 "nbformat_minor": 5
}
